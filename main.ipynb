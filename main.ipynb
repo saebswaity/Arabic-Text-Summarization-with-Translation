{
 "cells": [
  {
   "cell_type": "code",
   "execution_count": 26,
   "metadata": {},
   "outputs": [],
   "source": [
    "from transformers import pipeline\n",
    "\n",
    "summarizer = pipeline(\"summarization\", model=\"Falconsai/text_summarization\")\n",
    "\n"
   ]
  },
  {
   "cell_type": "code",
   "execution_count": 27,
   "metadata": {},
   "outputs": [],
   "source": [
    "ARTICLE = \"\"\" \n",
    "الحرب العالمية الثانية هي حرب دولية بدأت في الأول من سبتمبر من عام 1939 في أوروبا وانتهت في الثاني من سبتمبر عام 1945، شاركت فيها أو تأثَّرت بها الغالبية العظمى من دول العالم منها الدول العظمى في حِلفَين عسكريَّين متنازعين هما: قوات الحلفاء ودول المحور، كما أنَّها الحرب الأوسع في التاريخ، وشارك فيها بصورة مباشرة أكثر من 100 مليون شخص من أكثر من 30 بلدًا، وقد وضعت الدول الرئيسية كافَّة قدراتها العسكرية والاقتصادية والصناعية والعلمية في خدمة المجهود الحربي.\n",
    "\n",
    "أدَّت الحرب العالمية الثانية إلى عددٍ كبيرٍ من القتلى المدنيين، لعبت الطائرات دورًا رئيسيًا في الصراع، حيث مكَّنت القصف الاستراتيجي للمراكز السكنية الذي أودى بحياة حوالي مليون شخص، ومنه القنبلتان الذرِّيتان اللَّتان أُلقيتا على هيروشيما وناغازاكي، أدَّت الحرب إلى وقوع ما بين 50 و85 مليون قتيل حسب التقديرات؛ غالبيتهم من المدنيين؛ لذلك تعدُّ الحرب العالمية الثانية أكثر الحروب دمويةً في تاريخ البشرية. مات عشرات الملايين من الناس بسبب الإبادة الجماعية (بما في ذلك الهولوكوست) والجوع والمجازر والأمراض. في أعقاب هزيمة دول المحور، تمَّ احتلال ألمانيا واليابان، وأجريَّت محاكم جرائم حرب ضد القادة الألمان واليابانيين.\n",
    "\n",
    "كانت الإمبراطورية اليابانية قد أعلنت الحرب على جمهورية الصين في 7 يوليو 1937؛ حيث هدفت إلى السيطرة على آسيا والمحيط الهادئ، إلا أنَّ البداية الفعلية للحرب تعتبر في الأول من سبتمبر عام 1939، وذلك عندما قامت ألمانيا باجتياح بولندا، وتوالت بعدها إعلانات الحرب على ألمانيا من قبل فرنسا والمملكة المتحدة. ومن أواخر عام 1939 إلى أوائل عام 1941، سيطرت ألمانيا النازية على مساحة واسعة من قارة أوروبا بعد سلسلة من الحملات العسكرية، وشكَّلت تحالف دول المحور مع إيطاليا واليابان، كما اتفقت مع الاتحاد السوفييتي على تقاسم الأراضي المجاورة لهما: بولندا، وفنلندا، ورومانيا، ودول البلطيق. بقيت المعركة الأساسية في الحرب بين دول المحور من جهة، والمملكة المتحدة إلى جانب دول الكومنولث من جهة أخرى، إضافة إلى حملة في شمال إفريقيا وحملة أخرى في شرق إفريقيا، إضافة إلى معركة برلين الجوية وقصف لندن، وحملة البلقان، ومعركة المحيط الأطلسي. وفي يونيو 1941، قام تحالف دول المحور بغزو الاتحاد السوفييتي فيما يعرف بعملية بارباروسا، ما أدَّى إلى إشعال الجبهة الشرقية، وهي أكبر مسرح للحرب في التاريخ، ما جعل كبرى دول المحور في حرب استنزاف، وقامت اليابان في ديسمبر 1941 بالهجوم على ميناء بيرل هاربر، كما هاجمت منطقة ملايا البريطانية في المحيط الهادئ؛ فسيطرت سريعًا على جزء كبير من غرب المحيط الهادئ.\n",
    "\n",
    "توقف تقدُّم دول المحور عام 1942، عندما خسرت اليابان في معركة ميدواي بالقرب من ولاية هاواي الأمريكية، كما خسرت ألمانيا في معركة العلمين الثانية شمال إفريقيا، كما هزمها الاتحاد السوفييتي وحقَّق فوزًا حاسمًا في معركة ستالينغراد، وفي عام 1943، تلقَّت ألمانيا سلسلة هزائم على الجبهة الشرقية، كما قام الحلفاء بغزو صقلية، وغزو إيطاليا الذي أدَّى إلى استسلام إيطاليا، إضافة إلى انتصارات الحلفاء في المحيط الهادئ، فقدت دول المحور زمام المبادرة وبدأت تراجعًا استراتيجيًا في كافة الجبهات. وفي عام 1944، قام الحلفاء بتحرير فرنسا فيما يعرف بالإنزال النورماندي، في حين استعاد الاتحاد السوفييتي جميع المناطق التي خسرها وقام بغزو ألمانيا وحلفائها. وفي العامين 1944 و1945 تراجعت اليابان في جنوب وسط الصين وفي حملة بورما، في حين قام الحلفاء بشل حركة بحرية الإمبراطورية اليابانية وسيطرت على الجزر الرئيسية في المحيط الهادئ.\n",
    "\n",
    "انتهت الحرب في أوروبا بغزو الحلفاء لألمانيا، وسيطرة الاتحاد السوفييتي على برلين والاستسلام غير المشروط من قبل ألمانيا في 8 مايو عام 1945. وعُقد بعدها مؤتمر بوتسدام قرب برلين، والذي صدر خلاله إعلان بوتسدام في 26 يونيو 1945، وقامت الولايات المتحدة في 6 أغسطس و9 أغسطس من عام 1945 بإلقاء قنبلتين نوويتين على هيروشيما وناغازاكي (على الترتيب)، تبع ذلك استسلام اليابان في 15 أغسطس 1945.\n",
    "\n",
    "غيَّرت الحرب العالمية الثانية الخارطة السياسية والعسكرية والبنية الاجتماعية في العالم، كما أدَّت إلى إنشاء الأمم المتحدة؛ لتعزيز التعاون الدولي ومنع الصراعات في المستقبل، وأصبحت الدول المنتصرة في الحرب: الولايات المتحدة والاتحاد السوفياتي والصين والمملكة المتحدة وفرنسا أعضاء دائمين في مجلس الأمن التابع للأمم المتحدة، فيم برزت الولايات المتحدة والاتحاد السوفييتي كقوى عظمى على الساحة الدولية، وانحسر نفوذ القوى الأوروبية، وهذا ما مهَّد لطريق للحرب الباردة والتي استمرت في السنوات الـ46 القادمة، أما الدول الكبرى الأوروبية فقد تضاءل نفوذها، حيث بدأت حركات الاستقلال في آسيا وإفريقيا. اتجهت الدول التي تضرَّرت الصناعة فيها إلى إصلاح وضعها الاقتصادي، أما على الصعيد السياسي، تحديداً في أوروبا فقد بدأت مرحلة تكامل؛ سعيًا لتجنب العداوات التي تسبب الحروب، وأن يكون للأوروبيين هوية مشتركة.\n",
    "\"\"\"\n"
   ]
  },
  {
   "cell_type": "code",
   "execution_count": 28,
   "metadata": {},
   "outputs": [
    {
     "name": "stdout",
     "output_type": "stream",
     "text": [
      "World War II is an international war that began on September 1, 1939 in Europe and ended on September 2, 1945. The vast majority of the world’s countries participated or were affected by it, including the great powers in two conflicting military alliances: the Allied forces and the Axis powers. It also... The largest war in history, more than 100 million people from more than 30 countries directly participated in it, and the major countries put all their military, economic, industrial and scientific capabilities at the service of the war effort. World War II led to a large number of civilian deaths, and aircraft played a major role in the conflict, enabling the strategic bombing of military centers. Aircraft played a major role in the conflict, enabling the strategic bombing of population centers that killed around a million people, including the atomic bombs dropped on Hiroshima and Nagasaki. The war resulted in an estimated 50–85 million deaths, the majority of them civilians, making World War II the bloodiest war in human history. Tens of millions of people died from genocide (including the Holocaust), famine, massacres, and disease. Following the defeat of the Axis powers, Germany and Japan were occupied, and war crimes tribunals were held against German and Japanese leaders. The Empire of Japan had declared war on the Republic of China on 7 July 1937, with the aim of gaining control of The Republic of China on July 7, 1937; aiming to control Asia and the Pacific, but the actual beginning of the war is considered to be on September 1, 1939, when Germany invaded Poland, followed by declarations of war on Germany by France and the United Kingdom. From late 1939 to early 1941, Nazi Germany controlled a large area of ​​continental Europe after a series of military campaigns, and formed the Axis alliance with Italy and Japan, and agreed with the Soviet Union to share the neighboring territories: Poland, Finland, Romania, and the Baltic states. The main battle in the war remained between the Axis powers on the one hand, and the United Kingdom on the other. In the war between the Axis powers on the one hand, and the United Kingdom and the Commonwealth powers on the other hand, in addition to the campaign in North Africa and another in East Africa, in addition to the air battle of Berlin and the bombing of London, the Balkans campaign, and the Battle of the Atlantic. In June 1941, the Axis powers invaded the Soviet Union in Operation Barbarossa, which led to the outbreak of the Eastern Front, the largest theater of war in history, which put the major Axis powers in a war of attrition, and in December 1941 Japan attacked Pearl Harbor and attacked the British Malaya region in the Pacific Ocean; it quickly took control of a large part of the western Pacific. The Pacific; quickly took control of much of the western Pacific. The Axis advance was halted in 1942, when Japan lost the Battle of Midway near Hawaii, Germany lost the Second Battle of El Alamein in North Africa, and the Soviet Union defeated it and achieved a decisive victory at Stalingrad. In 1943, Germany suffered a series of defeats on the Eastern Front, and the Allies invaded Sicily and Italy, which led to the surrender of Italy. In addition to the Allied victories in the Pacific, the Axis lost the initiative and began a strategic retreat on all fronts. In 1944, the Allies liberated France in what is known as the Normandy landings, while the The Allies liberated France in the Normandy landings, while the Soviet Union regained all lost territory and invaded Germany and its allies. In 1944 and 1945, Japan retreated in south-central China and in the Burma campaign, while the Allies crippled the Imperial Japanese Navy and took control of key islands in the Pacific. The war in Europe ended with the Allied invasion of Germany, the Soviet capture of Berlin, and Germany's unconditional surrender on May 8, 1945. The Potsdam Conference was held near Berlin, during which the Potsdam Declaration was issued on June 26, 1945, and the United States dropped two atomic bombs on August 6 and August 9, 1945. On August 6 and August 9, 1945, two atomic bombs were dropped on Hiroshima and Nagasaki (respectively), followed by Japan's surrender on August 15, 1945. World War II changed the political, military, and social landscape of the world, and led to the creation of the United Nations to promote international cooperation and prevent future conflicts. The victorious countries in the war: the United States, the Soviet Union, China, the United Kingdom, and France became permanent members of the United Nations Security Council, while the United States and the Soviet Union emerged as major powers on the international scene, and the influence of the European powers declined, paving the way for the Cold War, which lasted for the next 46 years. The major European countries Which continued for the next 46 years, as the major European countries' influence diminished, as independence movements began in Asia and Africa. Countries whose industry was damaged moved to improve their economic situation, while on the political level, specifically in Europe, a phase of integration began; seeking to avoid the hostilities that cause wars, and for Europeans to have a common identity.\n"
     ]
    }
   ],
   "source": [
    "from deep_translator import GoogleTranslator\n",
    "\n",
    "def chunk_text(text, chunk_size=100, overlap=10):\n",
    "    words = text.split()\n",
    "    chunks = []\n",
    "    for i in range(0, len(words), chunk_size - overlap):\n",
    "        chunks.append(' '.join(words[i:i + chunk_size]))\n",
    "    return chunks\n",
    "\n",
    "def translate_chunks(text_chunks, translator):\n",
    "    translated_chunks = []\n",
    "    for chunk in text_chunks:\n",
    "        translated_chunk = translator.translate(chunk)\n",
    "        translated_chunks.append(translated_chunk)\n",
    "    return ' '.join(translated_chunks)\n",
    "\n",
    "\n",
    "# Initialize the translator for Arabic to English translation\n",
    "translator = GoogleTranslator(source='ar', target='en')\n",
    "\n",
    "# Sample Arabic text (replace with your actual text)\n",
    "arabic_text = ARTICLE\n",
    "\n",
    "# Chunk the text\n",
    "text_chunks = chunk_text(arabic_text)\n",
    "\n",
    "# Translate each chunk and concatenate results\n",
    "translated_text = translate_chunks(text_chunks, translator)\n",
    "\n",
    "print(translated_text)\n",
    "\n"
   ]
  },
  {
   "cell_type": "code",
   "execution_count": 29,
   "metadata": {},
   "outputs": [
    {
     "name": "stderr",
     "output_type": "stream",
     "text": [
      "Token indices sequence length is longer than the specified maximum sequence length for this model (1154 > 512). Running this sequence through the model will result in indexing errors\n"
     ]
    }
   ],
   "source": [
    "out_summary = summarizer(translated_text, max_length=1000, min_length=30, do_sample=False)\n"
   ]
  },
  {
   "cell_type": "code",
   "execution_count": 31,
   "metadata": {},
   "outputs": [],
   "source": [
    "# Initialize the translator for Arabic to English translation\n",
    "translator = GoogleTranslator(source='en', target='ar')\n",
    "\n",
    "# Sample Arabic text (replace with your actual text)\n",
    "eng_text = out_summary[0]['summary_text']\n",
    "\n",
    "# Chunk the text\n",
    "text_chunks = chunk_text(eng_text)\n",
    "\n",
    "# Translate each chunk and concatenate results\n",
    "translated_text = translate_chunks(text_chunks, translator)"
   ]
  },
  {
   "cell_type": "code",
   "execution_count": 32,
   "metadata": {},
   "outputs": [
    {
     "data": {
      "text/plain": [
       "'الحرب العالمية الثانية هي حرب دولية بدأت في الأول من سبتمبر عام 1939 في أوروبا وانتهت في الثاني من سبتمبر عام 1945. شاركت فيها الغالبية العظمى من دول العالم أو تأثرت بها، بما في ذلك القوى العظمى في تحالفين عسكريين متعارضين: قوات الحلفاء وقوات المحور. لعبت الطائرات دورًا رئيسيًا في الصراع، مما مكن من القصف الاستراتيجي للمراكز السكانية التي قتلت حوالي مليون شخص. وقد أسفرت عن مقتل ما يقدر بنحو 50-85 مليون شخص، غالبيتهم من المدنيين،'"
      ]
     },
     "execution_count": 32,
     "metadata": {},
     "output_type": "execute_result"
    }
   ],
   "source": [
    "translated_text"
   ]
  }
 ],
 "metadata": {
  "kernelspec": {
   "display_name": "myenv",
   "language": "python",
   "name": "python3"
  },
  "language_info": {
   "codemirror_mode": {
    "name": "ipython",
    "version": 3
   },
   "file_extension": ".py",
   "mimetype": "text/x-python",
   "name": "python",
   "nbconvert_exporter": "python",
   "pygments_lexer": "ipython3",
   "version": "3.12.2"
  }
 },
 "nbformat": 4,
 "nbformat_minor": 2
}
